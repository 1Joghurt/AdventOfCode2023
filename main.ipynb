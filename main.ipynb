{
 "cells": [
  {
   "cell_type": "code",
   "execution_count": 1,
   "metadata": {},
   "outputs": [],
   "source": [
    "from typing import List, Dict\n",
    "import functools \n",
    "\n",
    "def getFile(day: str) -> List[str]:  \n",
    "    \twith open(f\"./inputs/{day}.txt\", \"r\") as f: \n",
    "            return f.read().split('\\n')"
   ]
  },
  {
   "cell_type": "code",
   "execution_count": 9,
   "metadata": {},
   "outputs": [
    {
     "name": "stdout",
     "output_type": "stream",
     "text": [
      "54388\n",
      "53515\n"
     ]
    }
   ],
   "source": [
    "# 01/12/23\n",
    "\n",
    "input = getFile(\"01\")\n",
    "\n",
    "# Part 1\n",
    "numbers:  List[int] = []\n",
    "for line in input: \n",
    "    digits:  List[int] = []\n",
    "    for letter in line: \n",
    "        if letter.isnumeric(): \n",
    "            digits.append(int(letter))\n",
    "    numbers.append(digits[0]*10 + digits[-1])   \n",
    "print(functools.reduce(lambda a, b:  a+b, numbers)) \n",
    "\n",
    "\n",
    "# Part 2\n",
    "number_mapping:  Dict[str, int] = {\n",
    "    \"one\": 1,\n",
    "    \"two\": 2,\n",
    "    \"three\": 3,\n",
    "    \"four\": 4,\n",
    "    \"five\": 5, \n",
    "    \"six\": 6, \n",
    "    \"seven\": 7, \n",
    "    \"eight\": 8, \n",
    "    \"nine\": 9,\n",
    "}\n",
    "x = 1\n",
    "numbers:  List[int] = []\n",
    "for line in input: \n",
    "    digits: List[int] = []\n",
    "    for idx, letter in enumerate(line): \n",
    "        if letter.isnumeric(): \n",
    "            digits.append(int(letter))\n",
    "        else:\n",
    "            for string_value, int_value in number_mapping.items(): \n",
    "                length = len(string_value)\n",
    "                if line[idx:idx+length] == string_value:\n",
    "                    digits.append(int_value)\n",
    "                    break\n",
    "    numbers.append(digits[0]*10 + digits[-1])  \n",
    "    \n",
    "print(functools.reduce(lambda a, b:  a+b, numbers)) "
   ]
  },
  {
   "cell_type": "code",
   "execution_count": 42,
   "metadata": {},
   "outputs": [],
   "source": [
    "class Game:\n",
    "    id: int\n",
    "    sets: List\n",
    "\n",
    "    def __init__(self, id: int, sets: List[Dict[str, int]]):\n",
    "        self.id = id\n",
    "        self.sets = sets"
   ]
  },
  {
   "cell_type": "code",
   "execution_count": 62,
   "metadata": {},
   "outputs": [
    {
     "name": "stdout",
     "output_type": "stream",
     "text": [
      "2207\n",
      "62241\n"
     ]
    }
   ],
   "source": [
    "# 02/12/23\n",
    "\n",
    "input = getFile(\"02\")\n",
    "\n",
    "def get_games(lines: List[str]) -> List[Game]:\n",
    "    game_list: List[Game] = []\n",
    "    colors = cubes_in_bag.keys()\n",
    "    for line in lines:\n",
    "        set_list: List[Dict[str, int]] = []\n",
    "        line = line.replace(\"Game \", \"\")\n",
    "        parts = line.split(\":\")\n",
    "        sets = parts[1].split(\";\")\n",
    "        for set in sets:\n",
    "            subsets = [s.replace(\" \", \"\") for s in set.split(\",\")]\n",
    "            color_count_dict: Dict[str, int] = {}\n",
    "            for subset in subsets:\n",
    "                for color in colors:\n",
    "                    if color in subset:\n",
    "                        color_count_dict[color] = int(subset.replace(color, \"\"))\n",
    "            set_list.append(color_count_dict)\n",
    "        game_list.append(Game(int(parts[0]), set_list))\n",
    "    return game_list\n",
    "\n",
    "# Part 1\n",
    "cubes_in_bag:  Dict[str, int] = {\n",
    "    \"red\": 12,\n",
    "    \"green\": 13,\n",
    "    \"blue\": 14,\n",
    "}\n",
    "\n",
    "id_sum_all = int((100 / 2) * (1 + 100))\n",
    "id_sum_failed = 0\n",
    "games = get_games(input)\n",
    "colors = cubes_in_bag.keys()\n",
    "for game in games:\n",
    "    game_break = False\n",
    "    if game_break:\n",
    "        break\n",
    "    for set in game.sets:\n",
    "        if game_break:\n",
    "            break\n",
    "        for color in colors:\n",
    "            if cubes_in_bag[color] < set.get(color, 0):\n",
    "                id_sum_failed += game.id\n",
    "                game_break = True\n",
    "                break\n",
    "\n",
    "print(id_sum_all-id_sum_failed)\n",
    "\n",
    "# Part2\n",
    "games = get_games(input)\n",
    "colors = cubes_in_bag.keys()\n",
    "games_power = 0\n",
    "for game in games:\n",
    "    min_color: Dict[str, int]={}\n",
    "    for set in game.sets:\n",
    "        for color in colors:\n",
    "            if min_color.get(color, 0) <= set.get(color, 0):\n",
    "                min_color[color] = set.get(color, 0)\n",
    "    games_power += functools.reduce(lambda a, b:  a*b, min_color.values())\n",
    "\n",
    "print(games_power)\n",
    "\n",
    "\n"
   ]
  }
 ],
 "metadata": {
  "kernelspec": {
   "display_name": "Python 3",
   "language": "python",
   "name": "python3"
  },
  "language_info": {
   "codemirror_mode": {
    "name": "ipython",
    "version": 3
   },
   "file_extension": ".py",
   "mimetype": "text/x-python",
   "name": "python",
   "nbconvert_exporter": "python",
   "pygments_lexer": "ipython3",
   "version": "3.11.1"
  }
 },
 "nbformat": 4,
 "nbformat_minor": 2
}
